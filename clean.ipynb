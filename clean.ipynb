{
 "cells": [
  {
   "cell_type": "code",
   "execution_count": 1,
   "metadata": {},
   "outputs": [],
   "source": [
    "import pandas as pd"
   ]
  },
  {
   "cell_type": "code",
   "execution_count": 2,
   "metadata": {},
   "outputs": [],
   "source": [
    "df = pd.read_csv(\"/Users/junghwang/Documents/Guess_That_Jam/bimmuda_per_song_metadata.csv\")"
   ]
  },
  {
   "cell_type": "code",
   "execution_count": 3,
   "metadata": {},
   "outputs": [
    {
     "name": "stdout",
     "output_type": "stream",
     "text": [
      "Index(['Title', 'Artist', 'Year', 'Position', 'Genre (Broad 1)',\n",
      "       'Genre (Broad 2)', 'Genre (Specific 1)', 'Genre (Specific 2)',\n",
      "       'Genre (Specific 3)', 'Link to Audio', 'Time Signature 1',\n",
      "       'Time Signature 2', 'Tonic 1', 'Tonic 2', 'Tonic 3', 'Tonic 4',\n",
      "       'Tonic 5', 'Tonic 6', 'Mode 1', 'Mode 2', 'Mode 3', 'Mode 4', 'Mode 5',\n",
      "       'Mode 6', 'BPM 1', 'BPM 2', 'BPM 3'],\n",
      "      dtype='object')\n"
     ]
    }
   ],
   "source": [
    "print(df.columns)"
   ]
  },
  {
   "cell_type": "code",
   "execution_count": 4,
   "metadata": {},
   "outputs": [
    {
     "name": "stdout",
     "output_type": "stream",
     "text": [
      "Cleaned CSV saved to /Users/junghwang/Documents/Guess_That_Jam/cleaned_df.csv\n"
     ]
    }
   ],
   "source": [
    "# Load the original dataset with encoding specified\n",
    "file_path = '/Users/junghwang/Documents/Guess_That_Jam/bimmuda_per_song_metadata.csv'  # Replace with the path to your original CSV file\n",
    "\n",
    "try:\n",
    "    data = pd.read_csv(file_path, encoding='utf-8')  # Try utf-8 encoding\n",
    "except UnicodeDecodeError:\n",
    "    data = pd.read_csv(file_path, encoding='latin1')  # Fallback to latin1 if utf-8 fails\n",
    "\n",
    "# Select the required columns\n",
    "subset_data = data[[\"Title\", \"Artist\", \"Year\", \"Genre (Broad 1)\", \"Link to Audio\"]]\n",
    "\n",
    "# Rename columns to match your MySQL table schema\n",
    "subset_data.columns = [\"title\", \"artist\", \"year\", \"genre\", \"spotify_link\"]\n",
    "\n",
    "# Save the subsetted data to a new CSV file\n",
    "output_file_path = '/Users/junghwang/Documents/Guess_That_Jam/cleaned_df.csv'  # Replace with the desired output path\n",
    "subset_data.to_csv(output_file_path, index=False, encoding='utf-8')\n",
    "\n",
    "print(f\"Cleaned CSV saved to {output_file_path}\")\n"
   ]
  }
 ],
 "metadata": {
  "kernelspec": {
   "display_name": "Python 3",
   "language": "python",
   "name": "python3"
  },
  "language_info": {
   "codemirror_mode": {
    "name": "ipython",
    "version": 3
   },
   "file_extension": ".py",
   "mimetype": "text/x-python",
   "name": "python",
   "nbconvert_exporter": "python",
   "pygments_lexer": "ipython3",
   "version": "3.11.9"
  }
 },
 "nbformat": 4,
 "nbformat_minor": 2
}
